{
 "cells": [
  {
   "cell_type": "markdown",
   "metadata": {},
   "source": [
    "# Numpy Basics"
   ]
  },
  {
   "cell_type": "code",
   "execution_count": 1,
   "metadata": {},
   "outputs": [],
   "source": [
    "import numpy as np"
   ]
  },
  {
   "cell_type": "code",
   "execution_count": 2,
   "metadata": {},
   "outputs": [
    {
     "name": "stdout",
     "output_type": "stream",
     "text": [
      "[[1.5+0.j 2. +0.j 3. +0.j]\n",
      " [4. +0.j 5. +0.j 6. +0.j]]\n"
     ]
    }
   ],
   "source": [
    "# b es un array y se pueden cambiar los elementos\n",
    "b = np.array([(1.5,2,3), (4,5,6)], dtype=complex)\n",
    "print(b)"
   ]
  },
  {
   "cell_type": "code",
   "execution_count": 3,
   "metadata": {},
   "outputs": [
    {
     "name": "stdout",
     "output_type": "stream",
     "text": [
      "2 3\n"
     ]
    }
   ],
   "source": [
    "# S es una tuple, es inmutable\n",
    "S=b.shape\n",
    "NR=S[0]\n",
    "NC=S[1]\n",
    "print(NR, NC)"
   ]
  },
  {
   "cell_type": "code",
   "execution_count": 4,
   "metadata": {},
   "outputs": [
    {
     "name": "stdout",
     "output_type": "stream",
     "text": [
      "(1.5+0j) (6+0j)\n"
     ]
    }
   ],
   "source": [
    "# zero-offset\n",
    "print(b[0,0], b[NR-1, NC-1])"
   ]
  },
  {
   "cell_type": "code",
   "execution_count": 5,
   "metadata": {},
   "outputs": [
    {
     "name": "stdout",
     "output_type": "stream",
     "text": [
      "int16\n"
     ]
    }
   ],
   "source": [
    "# tipos enteros\n",
    "c=np.ones( S, dtype=np.int16 )  \n",
    "print(c.dtype)"
   ]
  },
  {
   "cell_type": "code",
   "execution_count": 6,
   "metadata": {},
   "outputs": [
    {
     "name": "stdout",
     "output_type": "stream",
     "text": [
      "[[2.5+0.j 3. +0.j 4. +0.j]\n",
      " [5. +0.j 6. +0.j 7. +0.j]]\n"
     ]
    }
   ],
   "source": [
    "z=b + c\n",
    "print(z)"
   ]
  },
  {
   "cell_type": "code",
   "execution_count": 7,
   "metadata": {},
   "outputs": [
    {
     "name": "stdout",
     "output_type": "stream",
     "text": [
      "[[0]\n",
      " [1]]\n"
     ]
    }
   ],
   "source": [
    "r=np.arange(0, NR)\n",
    "r.shape=(NR,1)\n",
    "print(r)"
   ]
  },
  {
   "cell_type": "code",
   "execution_count": 8,
   "metadata": {},
   "outputs": [
    {
     "name": "stdout",
     "output_type": "stream",
     "text": [
      "[ 0.          2.0943951   4.1887902   6.28318531  8.37758041 10.47197551]\n"
     ]
    }
   ],
   "source": [
    "c=2*np.pi*np.arange(2*NC)/NC\n",
    "print(c)"
   ]
  },
  {
   "cell_type": "code",
   "execution_count": 9,
   "metadata": {},
   "outputs": [
    {
     "name": "stdout",
     "output_type": "stream",
     "text": [
      "[ 0.00000000e+00  8.66025404e-01 -8.66025404e-01 -2.44929360e-16\n",
      "  8.66025404e-01 -8.66025404e-01]\n"
     ]
    }
   ],
   "source": [
    "f=np.sin(c)\n",
    "print(f)"
   ]
  },
  {
   "cell_type": "code",
   "execution_count": 10,
   "metadata": {},
   "outputs": [
    {
     "name": "stdout",
     "output_type": "stream",
     "text": [
      "[0.00000000e+00 7.50000000e-01 7.50000000e-01 5.99903913e-32\n",
      " 7.50000000e-01 7.50000000e-01]\n"
     ]
    }
   ],
   "source": [
    "print(np.power(f, 2))"
   ]
  },
  {
   "cell_type": "markdown",
   "metadata": {},
   "source": [
    "### en numpy no hay vectores hasta que se lo dices"
   ]
  },
  {
   "cell_type": "code",
   "execution_count": 11,
   "metadata": {},
   "outputs": [
    {
     "name": "stdout",
     "output_type": "stream",
     "text": [
      "A=[[3]\n",
      " [4]] \n",
      " B=[[0 0]\n",
      " [0 1]] \n",
      " C=[[0 0 0]\n",
      " [0 1 2]] \n",
      "\n"
     ]
    }
   ],
   "source": [
    "r=np.arange(NR)\n",
    "r.shape=(NR,1)\n",
    "c=np.arange(NC)\n",
    "c.shape=(NC,1)\n",
    "A=r*r+3\n",
    "B=r.dot(r.transpose())\n",
    "C=r@c.transpose()\n",
    "print(\"A={} \\n B={} \\n C={} \\n\".format(A,B,C))"
   ]
  },
  {
   "cell_type": "code",
   "execution_count": 17,
   "metadata": {},
   "outputs": [
    {
     "name": "stdout",
     "output_type": "stream",
     "text": [
      "A=[[3 3 3]\n",
      " [3 3 3]\n",
      " [3 3 3]\n",
      " [3 3 3]] \n",
      "\n",
      " B=[[1.15659863 1.58531255 0.28585873]\n",
      " [1.87011257 1.49905499 1.94737487]\n",
      " [0.1584789  1.75527358 1.97538173]\n",
      " [0.00267155 0.40419633 1.93223128]] \n",
      "\n",
      " C=[[4.15659863 4.58531255 3.28585873]\n",
      " [4.87011257 4.49905499 4.94737487]\n",
      " [3.1584789  4.75527358 4.97538173]\n",
      " [3.00267155 3.40419633 4.93223128]] \n",
      "\n",
      "\n"
     ]
    }
   ],
   "source": [
    "NR=4\n",
    "NC=3\n",
    "a = np.ones((NR,NC), dtype=int)\n",
    "b = np.random.random((NR,NC))\n",
    "A=a\n",
    "A*=3\n",
    "B=b\n",
    "B+=b\n",
    "C=A+B\n",
    "print(\"A={} \\n\\n B={} \\n\\n C={} \\n\\n\".format(A,B,C))"
   ]
  },
  {
   "cell_type": "code",
   "execution_count": 18,
   "metadata": {},
   "outputs": [
    {
     "name": "stdout",
     "output_type": "stream",
     "text": [
      "A=[12 12 12] \n",
      "\n",
      " B=[1.00925664 1.77218081 1.29637807 0.77969972] \n",
      "\n",
      " C=1.2143788087732494 \n",
      "\n",
      "\n"
     ]
    }
   ],
   "source": [
    "# X are columns and Y are rows\n",
    "X=0\n",
    "Y=1\n",
    "A=a.sum(axis=X)\n",
    "B=b.mean(axis=Y)\n",
    "C=b.mean()\n",
    "print(\"A={} \\n\\n B={} \\n\\n C={} \\n\\n\".format(A,B,C))\n"
   ]
  },
  {
   "cell_type": "code",
   "execution_count": null,
   "metadata": {},
   "outputs": [],
   "source": []
  }
 ],
 "metadata": {
  "kernelspec": {
   "display_name": "Python 3",
   "language": "python",
   "name": "python3"
  },
  "language_info": {
   "codemirror_mode": {
    "name": "ipython",
    "version": 3
   },
   "file_extension": ".py",
   "mimetype": "text/x-python",
   "name": "python",
   "nbconvert_exporter": "python",
   "pygments_lexer": "ipython3",
   "version": "3.7.3"
  }
 },
 "nbformat": 4,
 "nbformat_minor": 4
}
