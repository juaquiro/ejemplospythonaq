{
 "cells": [
  {
   "cell_type": "markdown",
   "id": "ef0c1afc",
   "metadata": {},
   "source": [
    "# Ejemplo de uso de import de modulos en un path arbitrario de un proyecto con un venv dado y poder correr un Notebook con un venv dado \n",
    "Para esto lanzamos pycharm, cambiamos al WD donde esten los notebooks y desde la ventana de comandos lanzamos el \"jupyter notebook\""
   ]
  },
  {
   "cell_type": "markdown",
   "id": "cb390445",
   "metadata": {},
   "source": [
    "## verificamos WD y path"
   ]
  },
  {
   "cell_type": "code",
   "execution_count": 1,
   "id": "6c0076e8",
   "metadata": {},
   "outputs": [
    {
     "data": {
      "text/plain": [
       "'C:\\\\user\\\\AQ_SCC\\\\ejemplospythonaq\\\\Notebooks\\\\NumPy'"
      ]
     },
     "execution_count": 1,
     "metadata": {},
     "output_type": "execute_result"
    }
   ],
   "source": [
    "import os\n",
    "os.getcwd()"
   ]
  },
  {
   "cell_type": "code",
   "execution_count": 2,
   "id": "7c3de2dc",
   "metadata": {},
   "outputs": [
    {
     "data": {
      "text/plain": [
       "['C:\\\\user\\\\AQ_SCC\\\\ejemplospythonaq\\\\Notebooks\\\\NumPy',\n",
       " 'C:\\\\Python\\\\Python38\\\\python38.zip',\n",
       " 'C:\\\\Python\\\\Python38\\\\DLLs',\n",
       " 'C:\\\\Python\\\\Python38\\\\lib',\n",
       " 'C:\\\\Python\\\\Python38',\n",
       " 'c:\\\\user\\\\aq_scc\\\\ejemplospythonaq\\\\venv',\n",
       " '',\n",
       " 'c:\\\\user\\\\aq_scc\\\\ejemplospythonaq\\\\venv\\\\lib\\\\site-packages',\n",
       " 'c:\\\\user\\\\aq_scc\\\\ejemplospythonaq\\\\venv\\\\lib\\\\site-packages\\\\win32',\n",
       " 'c:\\\\user\\\\aq_scc\\\\ejemplospythonaq\\\\venv\\\\lib\\\\site-packages\\\\win32\\\\lib',\n",
       " 'c:\\\\user\\\\aq_scc\\\\ejemplospythonaq\\\\venv\\\\lib\\\\site-packages\\\\Pythonwin',\n",
       " 'c:\\\\user\\\\aq_scc\\\\ejemplospythonaq\\\\venv\\\\lib\\\\site-packages\\\\IPython\\\\extensions',\n",
       " 'C:\\\\Users\\\\juaqu\\\\.ipython']"
      ]
     },
     "execution_count": 2,
     "metadata": {},
     "output_type": "execute_result"
    }
   ],
   "source": [
    "import sys\n",
    "sys.path"
   ]
  },
  {
   "cell_type": "markdown",
   "id": "6c902147",
   "metadata": {},
   "source": [
    "## Especificamos path al raiz del proyecto\n",
    "esto es lo que hace la consola python cdo se lanza desde Pycharm"
   ]
  },
  {
   "cell_type": "code",
   "execution_count": 3,
   "id": "38eb65e1",
   "metadata": {},
   "outputs": [],
   "source": [
    "path2ModulesList=['C:\\\\user\\\\AQ_SCC\\\\ejemplospythonaq', 'C:/user/AQ_SCC/ejemplospythonaq']\n",
    "sys.path.extend(path2ModulesList)"
   ]
  },
  {
   "cell_type": "code",
   "execution_count": 4,
   "id": "2d150e60",
   "metadata": {},
   "outputs": [
    {
     "data": {
      "text/plain": [
       "['C:\\\\user\\\\AQ_SCC\\\\ejemplospythonaq\\\\Notebooks\\\\NumPy',\n",
       " 'C:\\\\Python\\\\Python38\\\\python38.zip',\n",
       " 'C:\\\\Python\\\\Python38\\\\DLLs',\n",
       " 'C:\\\\Python\\\\Python38\\\\lib',\n",
       " 'C:\\\\Python\\\\Python38',\n",
       " 'c:\\\\user\\\\aq_scc\\\\ejemplospythonaq\\\\venv',\n",
       " '',\n",
       " 'c:\\\\user\\\\aq_scc\\\\ejemplospythonaq\\\\venv\\\\lib\\\\site-packages',\n",
       " 'c:\\\\user\\\\aq_scc\\\\ejemplospythonaq\\\\venv\\\\lib\\\\site-packages\\\\win32',\n",
       " 'c:\\\\user\\\\aq_scc\\\\ejemplospythonaq\\\\venv\\\\lib\\\\site-packages\\\\win32\\\\lib',\n",
       " 'c:\\\\user\\\\aq_scc\\\\ejemplospythonaq\\\\venv\\\\lib\\\\site-packages\\\\Pythonwin',\n",
       " 'c:\\\\user\\\\aq_scc\\\\ejemplospythonaq\\\\venv\\\\lib\\\\site-packages\\\\IPython\\\\extensions',\n",
       " 'C:\\\\Users\\\\juaqu\\\\.ipython',\n",
       " 'C:\\\\user\\\\AQ_SCC\\\\ejemplospythonaq',\n",
       " 'C:/user/AQ_SCC/ejemplospythonaq']"
      ]
     },
     "execution_count": 4,
     "metadata": {},
     "output_type": "execute_result"
    }
   ],
   "source": [
    "sys.path"
   ]
  },
  {
   "cell_type": "markdown",
   "id": "dc0e87c7",
   "metadata": {},
   "source": [
    "## Ya podemos usar/importar cualquier modulo que cuelgue de los dirs especificados en path2ModulesList"
   ]
  },
  {
   "cell_type": "code",
   "execution_count": 5,
   "id": "d55f31b4",
   "metadata": {},
   "outputs": [],
   "source": [
    "from src.AddOrSubstract import add_or_subtract"
   ]
  },
  {
   "cell_type": "code",
   "execution_count": 6,
   "id": "5cf247bb",
   "metadata": {},
   "outputs": [
    {
     "data": {
      "text/plain": [
       "2"
      ]
     },
     "execution_count": 6,
     "metadata": {},
     "output_type": "execute_result"
    }
   ],
   "source": [
    "add_or_subtract(1, 1)"
   ]
  },
  {
   "cell_type": "code",
   "execution_count": 7,
   "id": "168b81ef",
   "metadata": {},
   "outputs": [],
   "source": [
    "from src.Pizza import Pizza"
   ]
  },
  {
   "cell_type": "code",
   "execution_count": 8,
   "id": "6606bccf",
   "metadata": {},
   "outputs": [
    {
     "name": "stdout",
     "output_type": "stream",
     "text": [
      "La Pizza: Pizza(15, ['tomate', 'Cebolla']) tiene un radio 15 cm y area de 706.8583470577034 cm^2\n"
     ]
    }
   ],
   "source": [
    "r1=15\n",
    "p1=Pizza(r1, ['tomate', 'Cebolla'])\n",
    "a1=p1.area()\n",
    "print(f'La Pizza: {p1} tiene un radio {r1} cm y area de {a1} cm^2')"
   ]
  },
  {
   "cell_type": "code",
   "execution_count": null,
   "id": "11fdcdaf",
   "metadata": {},
   "outputs": [],
   "source": []
  },
  {
   "cell_type": "code",
   "execution_count": null,
   "id": "eb48f8f8",
   "metadata": {},
   "outputs": [],
   "source": []
  },
  {
   "cell_type": "code",
   "execution_count": null,
   "id": "7d75c18c",
   "metadata": {},
   "outputs": [],
   "source": []
  }
 ],
 "metadata": {
  "kernelspec": {
   "display_name": "Python 3 (ipykernel)",
   "language": "python",
   "name": "python3"
  },
  "language_info": {
   "codemirror_mode": {
    "name": "ipython",
    "version": 3
   },
   "file_extension": ".py",
   "mimetype": "text/x-python",
   "name": "python",
   "nbconvert_exporter": "python",
   "pygments_lexer": "ipython3",
   "version": "3.8.0"
  }
 },
 "nbformat": 4,
 "nbformat_minor": 5
}
