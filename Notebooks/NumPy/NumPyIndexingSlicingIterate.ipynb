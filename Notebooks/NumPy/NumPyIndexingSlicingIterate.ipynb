{
 "cells": [
  {
   "cell_type": "markdown",
   "metadata": {},
   "source": [
    "# Numpy Indexing, Slicing and Iterating"
   ]
  },
  {
   "cell_type": "code",
   "execution_count": 1,
   "metadata": {},
   "outputs": [],
   "source": [
    "import numpy as np"
   ]
  },
  {
   "cell_type": "code",
   "execution_count": 2,
   "metadata": {},
   "outputs": [
    {
     "name": "stdout",
     "output_type": "stream",
     "text": [
      "A=[   0    1    8   27   64  125  216  343  512  729 1000 1331 1728 2197\n",
      " 2744 3375 4096 4913] \n",
      "\n",
      " B=8 \n",
      "\n",
      " C=[0 1] \n",
      "\n",
      "\n"
     ]
    }
   ],
   "source": [
    "NR=18\n",
    "NC=17\n",
    "a = np.arange(NR)**3\n",
    "A=a\n",
    "B=a[2]\n",
    "C=a[0:2]\n",
    "print(\"A={} \\n\\n B={} \\n\\n C={} \\n\\n\".format(A,B,C))"
   ]
  },
  {
   "cell_type": "code",
   "execution_count": 3,
   "metadata": {},
   "outputs": [
    {
     "name": "stdout",
     "output_type": "stream",
     "text": [
      "A=[ 4913  4096  3375  2744  2197  1728  1331  1000   729   512   343   216\n",
      "   125 10000    27 10000     1 10000] \n",
      "\n",
      " B=[10000     1 10000    27 10000   125   216   343   512   729  1000  1331\n",
      "  1728  2197  2744  3375  4096  4913] \n",
      "\n",
      " C=[10000     1] \n",
      "\n",
      "\n"
     ]
    }
   ],
   "source": [
    "A=a[ : :-1]\n",
    "B=a\n",
    "B[0:6:2]=10000\n",
    "C=a[0:2]\n",
    "print(\"A={} \\n\\n B={} \\n\\n C={} \\n\\n\".format(A,B,C))"
   ]
  },
  {
   "cell_type": "code",
   "execution_count": 4,
   "metadata": {},
   "outputs": [],
   "source": [
    "def f(x,y):\n",
    "    return 10*x+y\n",
    "\n",
    "b = np.fromfunction(f,(5,4),dtype=int)"
   ]
  },
  {
   "cell_type": "code",
   "execution_count": 5,
   "metadata": {},
   "outputs": [
    {
     "name": "stdout",
     "output_type": "stream",
     "text": [
      "A=[[ 0  1  2  3]\n",
      " [10 11 12 13]\n",
      " [20 21 22 23]\n",
      " [30 31 32 33]\n",
      " [40 41 42 43]] \n",
      "\n",
      " B=[ 1 11 21 31 41] \n",
      "\n",
      " C=[20 21 22 23] \n",
      "\n",
      "\n"
     ]
    }
   ],
   "source": [
    "A=b\n",
    "B=b[ : ,1]\n",
    "C=b[2, : ]\n",
    "print(\"A={} \\n\\n B={} \\n\\n C={} \\n\\n\".format(A,B,C))"
   ]
  },
  {
   "cell_type": "markdown",
   "metadata": {},
   "source": [
    "Nos hemos quedado en https://numpy.org/devdocs/user/quickstart.html, Multidimensional arrays can have one index per axis. These indices are given in a tuple separated by commas"
   ]
  },
  {
   "cell_type": "code",
   "execution_count": 9,
   "metadata": {},
   "outputs": [
    {
     "name": "stdout",
     "output_type": "stream",
     "text": [
      "A=[[ 0  1  2  3]\n",
      " [10 11 12 13]\n",
      " [20 21 22 23]\n",
      " [30 31 32 33]\n",
      " [40 41 42 43]] \n",
      "\n",
      " B=[40 41 42 43] \n",
      "\n",
      " C=[[20 21 22 23]] \n",
      "\n",
      "\n"
     ]
    }
   ],
   "source": [
    "A=b\n",
    "B=b[-1]\n",
    "C=b[2:3, : ]\n",
    "print(\"A={} \\n\\n B={} \\n\\n C={} \\n\\n\".format(A,B,C))"
   ]
  },
  {
   "cell_type": "code",
   "execution_count": 10,
   "metadata": {},
   "outputs": [],
   "source": [
    "c = np.array( [[[  0,  1,  2],               # a 3D array (two stacked 2D arrays)\n",
    "                [ 10, 12, 13]],\n",
    "               [[100,101,102],\n",
    "                [110,112,113]]])"
   ]
  },
  {
   "cell_type": "code",
   "execution_count": 11,
   "metadata": {},
   "outputs": [
    {
     "data": {
      "text/plain": [
       "(2, 2, 3)"
      ]
     },
     "execution_count": 11,
     "metadata": {},
     "output_type": "execute_result"
    }
   ],
   "source": [
    "c.shape"
   ]
  },
  {
   "cell_type": "code",
   "execution_count": 14,
   "metadata": {},
   "outputs": [
    {
     "name": "stdout",
     "output_type": "stream",
     "text": [
      "A=[[  0   1   2]\n",
      " [100 101 102]] \n",
      "\n",
      " B=[[ 10  12  13]\n",
      " [110 112 113]] \n",
      "\n",
      " C=[[[  0   1   2]\n",
      "  [ 10  12  13]]\n",
      "\n",
      " [[100 101 102]\n",
      "  [110 112 113]]] \n",
      "\n",
      "\n"
     ]
    }
   ],
   "source": [
    "A=c[:, 0, :]\n",
    "B=c[:,1 , :]\n",
    "C=c\n",
    "print(\"A={} \\n\\n B={} \\n\\n C={} \\n\\n\".format(A,B,C))"
   ]
  },
  {
   "cell_type": "code",
   "execution_count": 16,
   "metadata": {},
   "outputs": [
    {
     "name": "stdout",
     "output_type": "stream",
     "text": [
      "[0 1 2 3]\n",
      "[10 11 12 13]\n",
      "[20 21 22 23]\n",
      "[30 31 32 33]\n",
      "[40 41 42 43]\n"
     ]
    }
   ],
   "source": [
    "for row in b:\n",
    "    print(row)"
   ]
  },
  {
   "cell_type": "code",
   "execution_count": null,
   "metadata": {},
   "outputs": [],
   "source": []
  }
 ],
 "metadata": {
  "kernelspec": {
   "display_name": "Python 3",
   "language": "python",
   "name": "python3"
  },
  "language_info": {
   "codemirror_mode": {
    "name": "ipython",
    "version": 3
   },
   "file_extension": ".py",
   "mimetype": "text/x-python",
   "name": "python",
   "nbconvert_exporter": "python",
   "pygments_lexer": "ipython3",
   "version": "3.7.3"
  }
 },
 "nbformat": 4,
 "nbformat_minor": 4
}
