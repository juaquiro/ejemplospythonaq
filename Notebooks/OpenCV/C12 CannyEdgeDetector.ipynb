{
 "cells": [
  {
   "cell_type": "markdown",
   "metadata": {},
   "source": [
    "# C12 Canny Edge Detector\n",
    "ver de https://opencv-python-tutroals.readthedocs.io/en/latest/py_tutorials/py_imgproc/py_canny/py_canny.html\n",
    "ver de https://docs.opencv.org/3.4/da/d5c/tutorial_canny_detector.html"
   ]
  },
  {
   "cell_type": "code",
   "execution_count": 1,
   "metadata": {},
   "outputs": [
    {
     "ename": "error",
     "evalue": "OpenCV(3.4.2) C:\\Miniconda3\\conda-bld\\opencv-suite_1534379934306\\work\\modules\\core\\src\\matrix.cpp:755: error: (-215:Assertion failed) dims <= 2 && step[0] > 0 in function 'cv::Mat::locateROI'\n",
     "output_type": "error",
     "traceback": [
      "\u001b[1;31m---------------------------------------------------------------------------\u001b[0m",
      "\u001b[1;31merror\u001b[0m                                     Traceback (most recent call last)",
      "\u001b[1;32m<ipython-input-1-bc2a9a866e2b>\u001b[0m in \u001b[0;36m<module>\u001b[1;34m\u001b[0m\n\u001b[0;32m      8\u001b[0m \u001b[1;31m#hemos instalado ipynb con pips desde un cmd window en el enviroment aqtest\u001b[0m\u001b[1;33m\u001b[0m\u001b[1;33m\u001b[0m\u001b[1;33m\u001b[0m\u001b[0m\n\u001b[0;32m      9\u001b[0m \u001b[1;32mimport\u001b[0m \u001b[0mipynb\u001b[0m \u001b[1;31m#para importar una funcion de otro ipynb file\u001b[0m\u001b[1;33m\u001b[0m\u001b[1;33m\u001b[0m\u001b[0m\n\u001b[1;32m---> 10\u001b[1;33m \u001b[1;32mfrom\u001b[0m \u001b[0mipynb\u001b[0m\u001b[1;33m.\u001b[0m\u001b[0mfs\u001b[0m\u001b[1;33m.\u001b[0m\u001b[0mfull\u001b[0m\u001b[1;33m.\u001b[0m\u001b[0mUtilsNotebook\u001b[0m \u001b[1;32mimport\u001b[0m \u001b[0mdisp2img\u001b[0m\u001b[1;33m\u001b[0m\u001b[1;33m\u001b[0m\u001b[0m\n\u001b[0m\u001b[0;32m     11\u001b[0m \u001b[1;33m\u001b[0m\u001b[0m\n\u001b[0;32m     12\u001b[0m \u001b[1;31m#set basic vars\u001b[0m\u001b[1;33m\u001b[0m\u001b[1;33m\u001b[0m\u001b[1;33m\u001b[0m\u001b[0m\n",
      "\u001b[1;32mC:\\user\\AQ_SCC\\ejemplospythonaq\\Notebooks\\OpenCV\\UtilsNotebook.ipynb\u001b[0m in \u001b[0;36m<module>\u001b[1;34m\u001b[0m\n\u001b[0;32m     59\u001b[0m    \u001b[1;34m\"execution_count\"\u001b[0m\u001b[1;33m:\u001b[0m \u001b[1;36m3\u001b[0m\u001b[1;33m,\u001b[0m\u001b[1;33m\u001b[0m\u001b[1;33m\u001b[0m\u001b[0m\n\u001b[0;32m     60\u001b[0m    \u001b[1;34m\"metadata\"\u001b[0m\u001b[1;33m:\u001b[0m \u001b[1;33m{\u001b[0m\u001b[1;33m}\u001b[0m\u001b[1;33m,\u001b[0m\u001b[1;33m\u001b[0m\u001b[1;33m\u001b[0m\u001b[0m\n\u001b[1;32m---> 61\u001b[1;33m    \u001b[1;34m\"outputs\"\u001b[0m\u001b[1;33m:\u001b[0m \u001b[1;33m[\u001b[0m\u001b[1;33m]\u001b[0m\u001b[1;33m,\u001b[0m\u001b[1;33m\u001b[0m\u001b[1;33m\u001b[0m\u001b[0m\n\u001b[0m\u001b[0;32m     62\u001b[0m    \"source\": [\n\u001b[0;32m     63\u001b[0m     \u001b[1;34m\"#esta fun muestra dos imagenes y devuelve los handles a los ejes para luego poder usarlos con un plot o un scatter\\n\"\u001b[0m\u001b[1;33m,\u001b[0m\u001b[1;33m\u001b[0m\u001b[1;33m\u001b[0m\u001b[0m\n",
      "\u001b[1;31merror\u001b[0m: OpenCV(3.4.2) C:\\Miniconda3\\conda-bld\\opencv-suite_1534379934306\\work\\modules\\core\\src\\matrix.cpp:755: error: (-215:Assertion failed) dims <= 2 && step[0] > 0 in function 'cv::Mat::locateROI'\n"
     ]
    }
   ],
   "source": [
    "#init modules\n",
    "import numpy as np\n",
    "import cv2\n",
    "import os\n",
    "from matplotlib import pyplot as plt\n",
    "# para importar una funcion desde UtilsNotebook.ipynb estamos usando la solucion de \n",
    "# https://stackoverflow.com/questions/44116194/import-a-function-from-another-ipynb-file: pip install ipynb --upgrade\n",
    "#hemos instalado ipynb con pips desde un cmd window en el enviroment aqtest\n",
    "import ipynb #para importar una funcion de otro ipynb file\n",
    "from ipynb.fs.full.UtilsNotebook import disp2img\n",
    "\n",
    "#set basic vars\n",
    "baseDir=os.path.join('..','..','data')\n",
    "#file name, tuple with only one name, use baseFileNameList=('j.png',) because baseFileNameList=('j.png') is a string\n",
    "# ver https://medium.com/@GalarnykMichael/python-basics-9-tuples-tuple-manipulation-and-the-fibonacci-sequence-2d0da4e2d326\n",
    "baseFileNameList=('j.png','sudoku-original.jpg','jnoise2.png', 'cameraman.tif', 'eight.tif')"
   ]
  },
  {
   "cell_type": "code",
   "execution_count": 2,
   "metadata": {},
   "outputs": [],
   "source": [
    "#store the images in a dictionary\n",
    "#using a comprehension solution \n",
    "imgDict={name: None for name in baseFileNameList}\n",
    "for name in baseFileNameList:\n",
    "    fileName=os.path.join(baseDir, name)\n",
    "    imgDict[name] = cv2.imread(fileName, cv2.COLOR_RGB2BGR)   "
   ]
  },
  {
   "cell_type": "markdown",
   "metadata": {},
   "source": [
    "## Canny Demo"
   ]
  },
  {
   "cell_type": "code",
   "execution_count": null,
   "metadata": {},
   "outputs": [],
   "source": [
    "#esta es la solucion de mostrar un slider con su callback (canny detector) usando una ventana openCV\n",
    "max_lowThreshold = 100\n",
    "# de https://matthew-brett.github.io/teaching/global_scope.html \"window_name\" es una variable global: If you define a variable at the top level of your script or module or notebook, this is a global variable a todas las \n",
    "window_name = 'Edge Map'\n",
    "title_trackbar = 'Min Threshold:'\n",
    "ratio = 3\n",
    "kernel_size = 3\n",
    "\n",
    "def CannyThreshold(val):\n",
    "    # low_threshold es una variable local, Variables defined inside a function or class, are not global. Only the function or class can see the variable\n",
    "    low_threshold = val\n",
    "    img_blur = cv2.blur(src_gray, (3,3))\n",
    "    detected_edges = cv2.Canny(img_blur, low_threshold, low_threshold*ratio, kernel_size)\n",
    "    mask = detected_edges != 0\n",
    "    dst = src * (mask[:,:,None].astype(src.dtype))\n",
    "    cv2.imshow(window_name, dst)\n",
    "    \n",
    "name=baseFileNameList[1]\n",
    "src=imgDict[name]\n",
    "src_gray = cv2.cvtColor(src, cv2.COLOR_BGR2GRAY)\n",
    "cv2.namedWindow(window_name, cv2.WINDOW_NORMAL)\n",
    "cv2.createTrackbar(title_trackbar, window_name , 0, max_lowThreshold, CannyThreshold)\n",
    "CannyThreshold(0)\n",
    "cv2.waitKey()\n",
    "cv2.destroyAllWindows()"
   ]
  },
  {
   "cell_type": "code",
   "execution_count": 8,
   "metadata": {},
   "outputs": [
    {
     "data": {
      "text/plain": [
       "0"
      ]
     },
     "execution_count": 8,
     "metadata": {},
     "output_type": "execute_result"
    }
   ],
   "source": [
    "#esta es la solucion de mostrar un slider con su callback (canny detector) usando un widget\n",
    "#pero aqui no se cambiar el tamaño relativo de axIm y axSlider\n",
    "from matplotlib.widgets import Slider\n",
    "%matplotlib qt \n",
    "\n",
    "max_lowThreshold = 100\n",
    "window_name = 'Edge Map'\n",
    "title_trackbar = 'Min Threshold:'\n",
    "ratio = 3\n",
    "kernel_size = 3\n",
    "\n",
    "def CannyThreshold2(val):\n",
    "    low_threshold = val\n",
    "    img_blur = cv2.blur(src_gray, (3,3))\n",
    "    detected_edges = cv2.Canny(img_blur, low_threshold, low_threshold*ratio, kernel_size)\n",
    "    mask = detected_edges != 0\n",
    "    dst = src * (mask[:,:,None].astype(src.dtype))\n",
    "    # axIm es una variable global que todavia no se ha instanciado\n",
    "    axIm.imshow(dst, cmap = 'gray', interpolation = 'bicubic')\n",
    "    axIm.set_xticks([]), axIm.set_yticks([])  # to hide tick values on X and Y axis\n",
    "    \n",
    "figSize=(5,5)    \n",
    "fig=plt.figure(figsize=figSize) # create a figure object\n",
    "axIm=fig.add_subplot(2, 1, 1)  # 1st 2x1 plot in the figure \n",
    "axSlider=fig.add_subplot(2, 1, 2)  # 2nd 2x1 plot in the figure \n",
    "\n",
    "name=baseFileNameList[1]\n",
    "src=imgDict[name]\n",
    "src_gray = cv2.cvtColor(src, cv2.COLOR_BGR2GRAY)\n",
    "sliderIm = Slider(axSlider, 'Threslhold', 0, max_lowThreshold, valinit=0)\n",
    "sliderIm.on_changed(CannyThreshold2)\n",
    "\n",
    "#plt.show()"
   ]
  },
  {
   "cell_type": "code",
   "execution_count": null,
   "metadata": {},
   "outputs": [],
   "source": [
    "# la otra solucion la saco de \n",
    "# https://matplotlib.org/3.1.0/gallery/subplots_axes_and_figures/subplots_demo.html\n",
    "# y\n",
    "# https://stackoverflow.com/questions/10388462/matplotlib-different-size-subplots\n",
    "# o tb de\n",
    "# Jupyter Notebook/Matplotlib/slider_demo.ipynb"
   ]
  },
  {
   "cell_type": "code",
   "execution_count": 9,
   "metadata": {},
   "outputs": [],
   "source": [
    "#esta es la solucion de mostrar un slider con su callback (canny detector) usando un widget\n",
    "#usando subplots para generar dos subplots con diferente tamaño siguiendo https://stackoverflow.com/questions/10388462/matplotlib-different-size-subplots\n",
    "from matplotlib import pyplot as plt\n",
    "from matplotlib.widgets import Slider\n",
    "%matplotlib qt \n",
    "\n",
    "max_lowThreshold = 100\n",
    "window_name = 'Edge Map'\n",
    "title_trackbar = 'Min Threshold:'\n",
    "ratio = 3\n",
    "kernel_size = 3\n",
    "\n",
    "def CannyThreshold3(val):\n",
    "    low_threshold = val\n",
    "    img_blur = cv2.blur(src_gray, (3,3))\n",
    "    detected_edges = cv2.Canny(img_blur, low_threshold, low_threshold*ratio, kernel_size)\n",
    "    mask = detected_edges != 0\n",
    "    dst = src * (mask[:,:,None].astype(src.dtype))\n",
    "    axIm.imshow(dst, cmap = 'gray', interpolation = 'bicubic')\n",
    "    axIm.set_xticks([]), axIm.set_yticks([])  # to hide tick values on X and Y axis\n",
    "\n",
    "#generamos el handle a la figura y los dos ejes, regulando el tamaño relativo    \n",
    "figIm, (axIm, axSlider) = plt.subplots(2, 1, gridspec_kw={'height_ratios': [20, 1]})\n",
    "axSlider.set_facecolor('red')\n",
    "\n",
    "# props para el handle axIm\n",
    "axIm.margins(x=0)\n",
    "\n",
    "# creamos el slider en el segundo eje y le ponemos color, asignamos callback\n",
    "sliderIm = Slider(axSlider, 'Threslhold', 0, max_lowThreshold, valinit=0, color='green')\n",
    "sliderIm.on_changed(CannyThreshold3)    \n",
    "\n",
    "name=baseFileNameList[1]\n",
    "src=imgDict[name]\n",
    "src_gray = cv2.cvtColor(src, cv2.COLOR_BGR2GRAY)"
   ]
  },
  {
   "cell_type": "code",
   "execution_count": 10,
   "metadata": {},
   "outputs": [],
   "source": [
    "# \n",
    "#esta es la solucion de mostrar un slider con su callback (canny detector) usando un widget\n",
    "#añadiendo un nuevo eje siguiendo Jupyter Notebook/Matplotlib/slider_demo.ipynb\n",
    "from matplotlib.widgets import Slider\n",
    "from matplotlib import pyplot as plt\n",
    "%matplotlib qt \n",
    "\n",
    "max_lowThreshold = 100\n",
    "window_name = 'Edge Map'\n",
    "title_trackbar = 'Min Threshold:'\n",
    "ratio = 3\n",
    "kernel_size = 3\n",
    "\n",
    "def CannyThreshold4(val):\n",
    "    low_threshold = val\n",
    "    img_blur = cv2.blur(src_gray, (3,3))\n",
    "    detected_edges = cv2.Canny(img_blur, low_threshold, low_threshold*ratio, kernel_size)\n",
    "    mask = detected_edges != 0\n",
    "    dst = src * (mask[:,:,None].astype(src.dtype))\n",
    "    axIm.imshow(dst, cmap = 'gray', interpolation = 'bicubic')\n",
    "    axIm.set_xticks([]), axIm.set_yticks([])  # to hide tick values on X and Y axis\n",
    "\n",
    "# creamos los handles a la figura y un eje para la imagen    \n",
    "figIm, axIm = plt.subplots()\n",
    "plt.subplots_adjust(left=0.25, bottom=0.25)\n",
    "axIm.margins(x=0)\n",
    "\n",
    "# creamos el handle para el slider en una posicion determinada \n",
    "axcolor = 'lightgoldenrodyellow'\n",
    "axSlider = plt.axes([0.25, 0.1, 0.65, 0.03], facecolor=axcolor)\n",
    "\n",
    "# creamos el slider en los ejes adecuaos y asignamos callback\n",
    "sliderIm = Slider(axSlider, 'Threslhold', 0, max_lowThreshold, valinit=0)\n",
    "sliderIm.on_changed(CannyThreshold4)    \n",
    "\n",
    "name=baseFileNameList[1]\n",
    "src=imgDict[name]\n",
    "src_gray = cv2.cvtColor(src, cv2.COLOR_BGR2GRAY)"
   ]
  },
  {
   "cell_type": "code",
   "execution_count": null,
   "metadata": {},
   "outputs": [],
   "source": []
  }
 ],
 "metadata": {
  "kernelspec": {
   "display_name": "Python 3",
   "language": "python",
   "name": "python3"
  },
  "language_info": {
   "codemirror_mode": {
    "name": "ipython",
    "version": 3
   },
   "file_extension": ".py",
   "mimetype": "text/x-python",
   "name": "python",
   "nbconvert_exporter": "python",
   "pygments_lexer": "ipython3",
   "version": "3.7.3"
  }
 },
 "nbformat": 4,
 "nbformat_minor": 4
}
