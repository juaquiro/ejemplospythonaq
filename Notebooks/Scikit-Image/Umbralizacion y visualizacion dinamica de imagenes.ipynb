{
 "cells": [
  {
   "cell_type": "markdown",
   "id": "ace71711",
   "metadata": {},
   "source": [
    "# Umbralizacion y visualizacion dinamica de imagenes \n",
    "de https://scikit-image.org/docs/dev/search.html?q=profile&check_keywords=yes&area=default\n",
    "vemos el uso de plugins para la la visualizacion e intetarcion con imagenes\n",
    "\n",
    "ver tb https://scikit-image.org/docs/dev/user_guide/viewer.html para una explicaicion de viewer bastante buena"
   ]
  },
  {
   "cell_type": "code",
   "execution_count": null,
   "id": "3e36ef5a",
   "metadata": {},
   "outputs": [
    {
     "name": "stderr",
     "output_type": "stream",
     "text": [
      "C:\\Users\\juaqu\\AppData\\Local\\Temp/ipykernel_15912/2813898655.py:16: FutureWarning: `viewer` is deprecated and will be removed in 0.20. For alternatives, refer to https://scikit-image.org/docs/stable/user_guide/visualization.html\n",
      "  viewer = ImageViewer(image)\n"
     ]
    },
    {
     "name": "stdout",
     "output_type": "stream",
     "text": [
      "Line profile tool\n",
      "+ and - keys or mouse scroll changes width of scan line.\n",
      "Select and drag ends of the scan line to adjust it.\n"
     ]
    }
   ],
   "source": [
    "from skimage.viewer import ImageViewer\n",
    "from skimage.viewer.widgets import Slider\n",
    "from skimage.viewer.plugins import Plugin\n",
    "from skimage.viewer.plugins import lineprofile\n",
    "\n",
    "from skimage import data\n",
    "\n",
    "%matplotlib qt\n",
    "\n",
    "plugin = Plugin(image_filter=lambda img,\n",
    "                threshold: img > threshold) \n",
    "plugin += Slider('threshold', 0, 255)   \n",
    "\n",
    "image = data.coins()\n",
    "\n",
    "viewer = ImageViewer(image)       \n",
    "\n",
    "viewer += plugin        \n",
    "viewer += lineprofile.LineProfile()\n",
    "\n",
    "thresholded = viewer.show()[0][0] "
   ]
  },
  {
   "cell_type": "code",
   "execution_count": null,
   "id": "9c687664",
   "metadata": {},
   "outputs": [],
   "source": []
  }
 ],
 "metadata": {
  "kernelspec": {
   "display_name": "Python 3 (ipykernel)",
   "language": "python",
   "name": "python3"
  },
  "language_info": {
   "codemirror_mode": {
    "name": "ipython",
    "version": 3
   },
   "file_extension": ".py",
   "mimetype": "text/x-python",
   "name": "python",
   "nbconvert_exporter": "python",
   "pygments_lexer": "ipython3",
   "version": "3.8.0"
  }
 },
 "nbformat": 4,
 "nbformat_minor": 5
}
